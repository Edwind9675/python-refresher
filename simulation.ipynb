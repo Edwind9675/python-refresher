{
 "cells": [
  {
   "cell_type": "markdown",
   "metadata": {},
   "source": [
    "# Simulation"
   ]
  },
  {
   "cell_type": "code",
   "execution_count": 48,
   "metadata": {},
   "outputs": [],
   "source": [
    "import numpy as np"
   ]
  },
  {
   "cell_type": "markdown",
   "metadata": {},
   "source": [
    "## Parameters"
   ]
  },
  {
   "cell_type": "code",
   "execution_count": 49,
   "metadata": {},
   "outputs": [],
   "source": [
    "density_water = 1000  # kg/m^3\n",
    "density_object = 500  # kg/m^3\n",
    "object_volume = 0.1  # m^3\n",
    "g = 9.81  # m/s^2\n",
    "time_step = 0.01  # s\n",
    "time_max = 10  # s"
   ]
  },
  {
   "cell_type": "code",
   "execution_count": 50,
   "metadata": {},
   "outputs": [],
   "source": [
    "time = 0  # s\n",
    "depth = 0  # m\n",
    "velocity = 0  # m/s\n",
    "acceleration = 0  # m/s^2\n",
    "buoyancy =   density_water*object_volume*g\n",
    "weight =   density_object*object_volume*g #n"
   ]
  },
  {
   "cell_type": "code",
   "execution_count": 51,
   "metadata": {},
   "outputs": [],
   "source": [
    "# lists for plotting later\n",
    "time = np.arange(0, time_max, time_step)\n",
    "position = np.zeros_like(time)\n",
    "velocity = np.zeros_like(time)\n",
    "acceleration = np.zeros_like(time)"
   ]
  },
  {
   "cell_type": "code",
   "execution_count": 52,
   "metadata": {},
   "outputs": [],
   "source": [
    "# simulation loop\n",
    "for i in range(1, len(time)):\n",
    "    # calculate the force on the object\n",
    "\n",
    "    force = buoyancy - weight\n",
    "    # calculate acceleration\n",
    "    acceleration[i] = force / (weight/g)\n",
    "    # calculate velocity\n",
    "   # velocity[i-1] = acceleration[i-1]*time[i] #+ velocity[i-1]\n",
    "    velocity[i] = acceleration[i-1]*time_step + velocity[i-1]\n",
    "    # calculate position\n",
    "    position[i] = velocity[i-1]*time_step + position[i-1]\n"
   ]
  },
  {
   "cell_type": "markdown",
   "metadata": {},
   "source": [
    "# Plot the results"
   ]
  },
  {
   "cell_type": "code",
   "execution_count": 53,
   "metadata": {},
   "outputs": [],
   "source": [
    "import matplotlib.pyplot as plt\n",
    "import numpy as np\n",
    "import math\n"
   ]
  },
  {
   "cell_type": "code",
   "execution_count": 12,
   "metadata": {},
   "outputs": [],
   "source": [
    "\n",
    "#plt.plot(time, position, label=\"Position\")\n",
    "#plt.plot(time, velocity, label=\"Velocity\")\n",
    "#plt.plot(time, acceleration, label=\"Acceleration\")\n",
    "#plt.xlabel(\"Time (s)\")\n",
    "#plt.ylabel(\"Position (m), Velocity (m/s), Acceleration (m/s^2)\")\n",
    "#plt.legend()\n",
    "#plt.show()\n",
    "def calculate_acceleration(F, m): \n",
    "     \n",
    "        a = F/m   #since f = ma, by dividing m from both sides, we yield acceleration\n",
    "        \"\"\"in this question, we calculate the acceleation of an object given the force appllied \n",
    "        to it and its mass, where F is he force applied in N and m is the mass in kg\"\"\"\n",
    "        return a\n",
    "\n",
    "def calculate_angular_acceleration(tau, I): \n",
    "      \"\"\"calculates the torque applied to an object given the force \n",
    "      applied to it and the distance from the axis of rotation to the point where the force is applied.\"\"\"\n",
    "      aac = tau/I  \n",
    "      return aac \n",
    "\n",
    "def calculate_torque(F_magnitude, F_direction, r):\n",
    "     \n",
    "       \"\"\"calculates the torque applied to an object given the force applied to it and \n",
    "       the distance from the axis of rotation to the point where the force is applied.\"\"\"\n",
    "       F_dir = np.deg2rad(F_direction)\n",
    "       torque = r*F_magnitude* np.cos(F_dir) + r*F_magnitude* np.sin(F_dir)\n",
    "       return torque\n",
    "\n",
    "def calculate_moment_of_inertia(m, r):\n",
    "       \"\"\"calculates the moment of inertia of an object given \n",
    "       its mass and the distance from the axis of rotation to \n",
    "       the center of mass of the object.\"\"\"\n",
    "       mi = m*r*r\n",
    "       return mi\n",
    "\n",
    "def calculate_auv_acceleration(F_magitude, F_angle, mass) :\n",
    "       \"\"\"calculates the acceleration of the AUV in the 2D plane.\"\"\"\n",
    "       #mass = 100 #kg\n",
    "       #volume = 0.1 #m^3\n",
    "       accx = F_magitude*np.cos(F_angle)/ mass\n",
    "       accy = F_magitude*np.sin(F_angle)/ mass\n",
    "       acc_total = accx + accy \n",
    "       return np.array([[accx, accy]]) #\n",
    "\n",
    "def calculate_auv_angular_acceleration(F_magnitude, F_angle, inertia, thruster_distance):\n",
    "       \"\"\"calculates the angular acceleration of the AUV.\"\"\"\n",
    "       angular_acc = calculate_torque.torque(F_magnitude, F_angle, thruster_distance)*thruster_distance / inertia\n",
    "       return angular_acc\n",
    "\n",
    "\n",
    "def calculate_auv2_acceleration(T, alpha, mass, theta):\n",
    "       \"\"\"\"Calculate the acceleration of an AUV given it has 4 thrusters\"\"\"\n",
    "       \"\"\"alpha is the system angle in degree, T is a 4x1 matrix, and mass in kg, theta is the global angle in degree\"\"\"\n",
    "       component_matrix= np.array(\n",
    "                    [ [np.cos(alpha), np.cos(alpha), -np.cos(alpha), -np.cos(alpha)],\n",
    "                     [np.sin(alpha), -np.sin(alpha), -np.sin(alpha), np.sin(alpha)] ]\n",
    "              ) \n",
    "       rotation_matrix= np.array(\n",
    "                    [ [np.cos(theta), -np.sin(theta)],\n",
    "                     [np.sin(theta), np.cos(theta)] ]\n",
    "              ) \n",
    "       if T.shape == (4, 1):\n",
    "              \n",
    "              fxyprime = np.matmul(component_matrix, T) \n",
    "              \n",
    "              acceleration_fxy = (np.matmul(rotation_matrix, fxyprime))/mass\n",
    "              \n",
    "             # acceleration_mag = math.sqrt(sum(pow(element, 2) for element in acceleration_fxy))\n",
    "              return acceleration_fxy\n",
    "       else: \n",
    "              raise TypeError(\"dimension invalid\")\n",
    "\n",
    "def calculate_auv2_angular_acceleration(T, L, l, alpha, inertia):\n",
    "       \"\"\"Calculate the angular acceleration of a 4 thruster AUV, aka the torque acceleration\"\"\"\n",
    "       component_matrix= np.array(\n",
    "                    [ [np.cos(alpha), np.cos(alpha), -np.cos(alpha), -np.cos(alpha)],\n",
    "                     [np.sin(alpha), -np.sin(alpha), -np.sin(alpha), np.sin(alpha)] ]\n",
    "              ) \n",
    "       force_fxy = np.matmul(component_matrix, T)\n",
    "       accl = np.array([force_fxy[0] / inertia, force_fxy[1] / inertia])\n",
    "       r = np.sqrt(L*L +l*l)\n",
    "       mag = np.sqrt(force_fxy[0]**2 + force_fxy[1]**2)\n",
    "       return calculate_torque(mag, alpha, r)\n",
    "\n",
    "def simulation_auv2_motion(T, alpha, L, l, inertia=100, dt=.1, t_final=10, x0=0, y0=0, theta0=0):\n",
    "       #time_step = 0.01\n",
    "       # dt is essentially timestep\n",
    "      # state = np.array([x0], [y0], [theta0])\n",
    "       time = np.arange(0, t_final, dt)\n",
    "       x = np.zeros_like(time)\n",
    "       y = np.zeros_like(time)\n",
    "       x[0]= x0\n",
    "       y[0]=y0\n",
    "       position = np.zeros_like(time)\n",
    "       velocity = np.zeros_like(time) \n",
    "       angular_displacement = np.zeros_like(time)\n",
    "       angular_acceleration = np.zeros_like(time)\n",
    "       theta = np.zeros_like(time)\n",
    "       theta[0] = theta0\n",
    "       mass = 100 #kg\n",
    "       omega= np.zeros_like(time) \n",
    "       a = np.tile(np.zeros_like(time), (2, 1))\n",
    "       a[0] = calculate_auv2_acceleration(T, alpha, mass, theta)[0][0]\n",
    "       omega[0] = calculate_auv2_angular_acceleration(T, L, l, alpha, inertia)[0][0]\n",
    "\n",
    "\n",
    "      \n",
    "       for i in range(1, len(time)):\n",
    "              angular_acceleration[i] = calculate_auv2_angular_acceleration(T, L, l, alpha, inertia)\n",
    "              a[0][i] = calculate_auv2_acceleration(T, alpha, mass, theta)[0][0]\n",
    "              a[1][i] = calculate_auv2_acceleration(T, alpha, mass, theta)[0][1]\n",
    "              velocity[i] = a[i-1]*dt + velocity[i-1]\n",
    "              x[i] = velocity[i-1]*dt + x[i-1]\n",
    "              y[i] = velocity[i-1]*dt + y[i-1]\n",
    "              theta[i] = .5 * a[i]* dt**2 + velocity[i-1]*time[i-1]\n",
    "              omega[i] = angular_acceleration[i-1]* dt + omega [i-1]\n",
    "              time[i]= time[i] + time[i-1] \n",
    "             \n",
    "       physicsdict = {\n",
    "              \"acceleration\": a,\n",
    "              \"velocity\": velocity, \n",
    "              \"x\": x,\n",
    "              \"y\": y,\n",
    "              \"theta\": theta,\n",
    "              \"omega\": omega, \n",
    "              \"time\": time\n",
    "       }\n",
    "       return physicsdict\n",
    "\n",
    "\n",
    "    #simulation_auv2_motion(np.array([[0], [50], [50], [30]]), np.pi/4, 1, 1, 1)\n",
    "     \n"
   ]
  },
  {
   "cell_type": "code",
   "execution_count": 2,
   "metadata": {},
   "outputs": [],
   "source": [
    "def plot_auv2(physicsdict):\n",
    "        x = physicsdict[\"x\"]\n",
    "        y = physicsdict[\"y\"]\n",
    "        \n",
    "        plt.plot(x, y)\n",
    "        plt.xlabel(\"X Position\")\n",
    "        plt.ylabel(\"Y Position\")\n",
    "        plt.title(\"AUV Positions\")\n",
    "        plt.grid(True)\n",
    "        plt.show()"
   ]
  },
  {
   "cell_type": "code",
   "execution_count": 29,
   "metadata": {},
   "outputs": [],
   "source": [
    "def calculate_auv2_acceleration(T, alpha, mass, theta):\n",
    "       \"\"\"\"Calculate the acceleration of an AUV given it has 4 thrusters\"\"\"\n",
    "       \"\"\"alpha is the system angle in degree, T is a 4x1 matrix, and mass in kg, theta is the global angle in degree\"\"\"\n",
    "       if T.shape == (4, 1):\n",
    "              component_matrix= np.array(\n",
    "                    [ [np.cos(alpha), np.cos(alpha), -np.cos(alpha), -np.cos(alpha)],\n",
    "                     [np.sin(alpha), -np.sin(alpha), -np.sin(alpha), np.sin(alpha)] ]\n",
    "              ) \n",
    "              rotation_matrix= np.array(\n",
    "                    [ [np.cos(theta), -np.sin(theta)],\n",
    "                     [np.sin(theta), np.cos(theta)] ]\n",
    "              ) \n",
    "              fxyprime = np.matmul(component_matrix, T) \n",
    "              \n",
    "              acceleration_fxy = (np.matmul(rotation_matrix, fxyprime))/mass\n",
    "              \n",
    "             # acceleration_mag = math.sqrt(sum(pow(element, 2) for element in acceleration_fxy))\n",
    "              return acceleration_fxy\n",
    "       else: \n",
    "              raise TypeError(\"dimension invalid\")\n",
    "       \n",
    "      "
   ]
  },
  {
   "cell_type": "code",
   "execution_count": 31,
   "metadata": {},
   "outputs": [
    {
     "ename": "TypeError",
     "evalue": "array() takes from 1 to 2 positional arguments but 4 were given",
     "output_type": "error",
     "traceback": [
      "\u001b[0;31m---------------------------------------------------------------------------\u001b[0m",
      "\u001b[0;31mTypeError\u001b[0m                                 Traceback (most recent call last)",
      "Cell \u001b[0;32mIn[31], line 3\u001b[0m\n\u001b[1;32m      1\u001b[0m \u001b[39mimport\u001b[39;00m \u001b[39mnumpy\u001b[39;00m \u001b[39mas\u001b[39;00m \u001b[39mnp\u001b[39;00m\n\u001b[1;32m      2\u001b[0m \u001b[39m#def simulation_auv2_motion(T, alpha, L, l, inertia=100, dt=.1, t_final=10, x0=0, y0=0, theta0=0):\u001b[39;00m\n\u001b[0;32m----> 3\u001b[0m physicsdict\u001b[39m=\u001b[39m simulation_auv2_motion(np\u001b[39m.\u001b[39;49marray([\u001b[39m0\u001b[39;49m], [\u001b[39m50\u001b[39;49m], [\u001b[39m50\u001b[39;49m], [\u001b[39m30\u001b[39;49m]), np\u001b[39m.\u001b[39mpi\u001b[39m/\u001b[39m\u001b[39m3\u001b[39m, \u001b[39m1\u001b[39m, \u001b[39m1\u001b[39m, \u001b[39m100\u001b[39m, \u001b[39m.1\u001b[39m, \u001b[39m10\u001b[39m, \u001b[39m0\u001b[39m, \u001b[39m0\u001b[39m, \u001b[39m0\u001b[39m)\n\u001b[1;32m      4\u001b[0m plot_auv2(physicsdict) \n",
      "\u001b[0;31mTypeError\u001b[0m: array() takes from 1 to 2 positional arguments but 4 were given"
     ]
    }
   ],
   "source": [
    "import numpy as np\n",
    "#def simulation_auv2_motion(T, alpha, L, l, inertia=100, dt=.1, t_final=10, x0=0, y0=0, theta0=0):\n",
    "physicsdict= simulation_auv2_motion(np.array([0], [50], [50], [30]), np.pi/3, 1, 1, .1, 10, 0, 0, 0)\n",
    "plot_auv2(physicsdict) \n",
    "\n"
   ]
  }
 ],
 "metadata": {
  "kernelspec": {
   "display_name": "bwsi",
   "language": "python",
   "name": "python3"
  },
  "language_info": {
   "codemirror_mode": {
    "name": "ipython",
    "version": 3
   },
   "file_extension": ".py",
   "mimetype": "text/x-python",
   "name": "python",
   "nbconvert_exporter": "python",
   "pygments_lexer": "ipython3",
   "version": "3.9.2"
  },
  "orig_nbformat": 4
 },
 "nbformat": 4,
 "nbformat_minor": 2
}
